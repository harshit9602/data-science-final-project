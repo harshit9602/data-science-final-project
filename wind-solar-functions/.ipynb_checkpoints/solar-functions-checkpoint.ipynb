{
 "cells": [
  {
   "cell_type": "code",
   "execution_count": 1,
   "metadata": {},
   "outputs": [],
   "source": [
    "import numpy as np\n",
    "import pandas as pd"
   ]
  },
  {
   "cell_type": "code",
   "execution_count": 29,
   "metadata": {},
   "outputs": [],
   "source": [
    "T = 40\n",
    "S = 1000\n",
    "\n",
    "\n",
    "def SolarConverter_AllMax_300(solar_radiation, temperature):\n",
    "    NOCT = 44 # Nominal operating cell temperature\n",
    "    power_max_at_1000 = 300 # power produced when cell temperature is 20 C\n",
    "    temp_coefficient = 0.39 # percent per degree celcius\n",
    "    cell_temperature = temperature + ((NOCT - 20)/800 )*solar_radiation # Cell temperature\n",
    "    percent_power_reduction = 0.39*(cell_temperature - 20) # Percent power reduced from 20 --> cell temp\n",
    "    power_at_NOCT_1000_radiation = (1 - percent_power_reduction/100)*power_max_at_1000 # Power produced when solar radiation is 1000 w/m2\n",
    "    actual_power = power_at_NOCT_1000_radiation*S/1000\n",
    "    return actual_power\n",
    "\n",
    "\n",
    "def SolarConverter_TrinaSolar_335(solar_radiation, temperature):\n",
    "    NOCT = 44 # Nominal operating cell temperature\n",
    "    power_max_at_1000 = 335 # power produced when cell temperature is 20 C\n",
    "    temp_coefficient = 0.41 # percent per degree celcius\n",
    "    cell_temperature = temperature + ((NOCT - 20)/800 )*solar_radiation # Cell temperature\n",
    "    percent_power_reduction = 0.39*(cell_temperature - 20) # Percent power reduced from 20 --> cell temp\n",
    "    power_at_NOCT_1000_radiation = (1 - percent_power_reduction/100)*power_max_at_1000 # Power produced when solar radiation is 1000 w/m2\n",
    "    actual_power = power_at_NOCT_1000_radiation*S/1000\n",
    "    return actual_power\n",
    "\n",
    "def SolarConverter_Mitsubishi(solar_radiation, temperature):\n",
    "    NOCT = 45.7 # Nominal operating cell temperature\n",
    "    power_max_at_1000 = 250 # power produced when cell temperature is 20 C\n",
    "    temp_coefficient = 0.45 # percent per degree celcius\n",
    "    cell_temperature = temperature + ((NOCT - 20)/800 )*solar_radiation # Cell temperature\n",
    "    percent_power_reduction = 0.39*(cell_temperature - 20) # Percent power reduced from 20 --> cell temp\n",
    "    power_at_NOCT_1000_radiation = (1 - percent_power_reduction/100)*power_max_at_1000 # Power produced when solar radiation is 1000 w/m2\n",
    "    actual_power = power_at_NOCT_1000_radiation*S/1000\n",
    "    return actual_power\n",
    "\n",
    "def SolarConverter_FirstSolar(solar_radiation, temperature):\n",
    "    NOCT = 45 # Nominal operating cell temperature\n",
    "    power_max_at_1000 = 435 # power produced when cell temperature is 20 C\n",
    "    temp_coefficient = 0.32 # percent per degree celcius\n",
    "    cell_temperature = temperature + ((NOCT - 20)/800 )*solar_radiation # Cell temperature\n",
    "    percent_power_reduction = 0.39*(cell_temperature - 20) # Percent power reduced from 20 --> cell temp\n",
    "    power_at_NOCT_1000_radiation = (1 - percent_power_reduction/100)*power_max_at_1000 # Power produced when solar radiation is 1000 w/m2\n",
    "    actual_power = power_at_NOCT_1000_radiation*S/1000\n",
    "    return actual_power\n"
   ]
  },
  {
   "cell_type": "code",
   "execution_count": 41,
   "metadata": {},
   "outputs": [
    {
     "data": {
      "text/plain": [
       "392.5875"
      ]
     },
     "execution_count": 41,
     "metadata": {},
     "output_type": "execute_result"
    }
   ],
   "source": [
    "SolarConverter_FirstSolar(800,20)"
   ]
  },
  {
   "cell_type": "code",
   "execution_count": 35,
   "metadata": {},
   "outputs": [],
   "source": [
    "d = {'col1': [100, 200], 'col2': [3, 4]}\n",
    "df = pd.DataFrame(data=d)"
   ]
  },
  {
   "cell_type": "code",
   "execution_count": null,
   "metadata": {},
   "outputs": [],
   "source": []
  }
 ],
 "metadata": {
  "kernelspec": {
   "display_name": "Python 3",
   "language": "python",
   "name": "python3"
  },
  "language_info": {
   "codemirror_mode": {
    "name": "ipython",
    "version": 3
   },
   "file_extension": ".py",
   "mimetype": "text/x-python",
   "name": "python",
   "nbconvert_exporter": "python",
   "pygments_lexer": "ipython3",
   "version": "3.8.5"
  }
 },
 "nbformat": 4,
 "nbformat_minor": 4
}
